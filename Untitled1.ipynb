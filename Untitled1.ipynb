{
  "nbformat": 4,
  "nbformat_minor": 0,
  "metadata": {
    "colab": {
      "provenance": [],
      "authorship_tag": "ABX9TyMz+vJaqauZNB++ucZpujw/",
      "include_colab_link": true
    },
    "kernelspec": {
      "name": "python3",
      "display_name": "Python 3"
    },
    "language_info": {
      "name": "python"
    }
  },
  "cells": [
    {
      "cell_type": "markdown",
      "metadata": {
        "id": "view-in-github",
        "colab_type": "text"
      },
      "source": [
        "<a href=\"https://colab.research.google.com/github/Cristianccl/-Estructura-Secuenciales-/blob/main/Untitled1.ipynb\" target=\"_parent\"><img src=\"https://colab.research.google.com/assets/colab-badge.svg\" alt=\"Open In Colab\"/></a>"
      ]
    },
    {
      "cell_type": "markdown",
      "source": [
        "#EXAMEN_PSEUDOCODIGO_202502\n",
        "\n",
        "ING-MECANICA\n",
        "\n",
        "CRISTIAN CAMILO CORDERO LOPEZ\n",
        "\n",
        "ccamilocl0507@gmail.com\n",
        "\n",
        "12 de septiembre 2025\n"
      ],
      "metadata": {
        "id": "Ci1CO4-KOpXi"
      }
    },
    {
      "cell_type": "code",
      "source": [
        "Solicitar el costo de la comida al usuario\n",
        "\n",
        "start\n",
        "  Declare \"Ingresa el costo de la comida\"\n",
        "   Declare \"Ingresa el costo del impuesto\"\n",
        "\n",
        "  Display \"\"Ingresa el costo de la comida\"\n",
        "  Display \"Ingrese el costo: \"\n",
        "  Input  costo\n",
        "  Display \"Ingresa el costo del impuesto\"\n",
        "  Imput costo\n",
        "\n",
        "   Display \"total costo_comida + propina + impuesto \"\n",
        "   Display \"se mostraran todos los resultados\n",
        "\n",
        "   end"
      ],
      "metadata": {
        "id": "wjiqBjCOdT-A"
      },
      "execution_count": null,
      "outputs": []
    },
    {
      "cell_type": "code",
      "source": [
        "# Solicitar el costo de la comida al usuario\n",
        "costo_comida = float(input(\"Ingresa el costo de la comida: $\"))\n",
        "\n",
        "# Calcular la propina (15%) y el impuesto (7%)\n",
        "propina = costo_comida * 0.15\n",
        "impuesto = costo_comida * 0.07\n",
        "\n",
        "# Calcular el total\n",
        "total = costo_comida + propina + impuesto\n",
        "\n",
        "# Mostrar los resultados\n",
        "print(\"\\n--- Detalles de la cuenta ---\")\n",
        "print(f\"Costo de la comida: ${costo_comida:.2f}\")\n",
        "print(f\"Propina (15%):      ${propina:.2f}\")\n",
        "print(f\"Impuesto (7%):      ${impuesto:.2f}\")\n",
        "print(f\"Total a pagar:      ${total:.2f}\")\n"
      ],
      "metadata": {
        "colab": {
          "base_uri": "https://localhost:8080/"
        },
        "id": "5a4aqbknaTnR",
        "outputId": "4759cbfe-f673-4983-f7d5-0d284ab4597a"
      },
      "execution_count": 1,
      "outputs": [
        {
          "output_type": "stream",
          "name": "stdout",
          "text": [
            "Ingresa el costo de la comida: $100000\n",
            "\n",
            "--- Detalles de la cuenta ---\n",
            "Costo de la comida: $100000.00\n",
            "Propina (15%):      $15000.00\n",
            "Impuesto (7%):      $7000.00\n",
            "Total a pagar:      $122000.00\n"
          ]
        }
      ]
    },
    {
      "cell_type": "code",
      "source": [
        "solicitar datos del usurio\n",
        "start\n",
        "      declare real ingresa capital\n",
        "      declare real ingresa tasa\n",
        "      declare real igresa numeros de años\n",
        "      declare real ingrese las veces de capatalizacion\n",
        "\n",
        "      display ingrese capital\n",
        "      imput capital\n",
        "      display ingrese tasa\n",
        "      imput tasa anual\n",
        "      display ingrese numero\n",
        "      imput tiempo\n",
        "      display ingrese años\n",
        "      imput n\n",
        "\n",
        "      display \"calcular el monto final con interes compuesto\"\n",
        "      imput tasa=tasa_anual / 100\n",
        "\n",
        "      display \"se mostrara el resultado \"\n",
        "\n",
        "      end\n",
        ""
      ],
      "metadata": {
        "id": "q5c5QOKmeSJo"
      },
      "execution_count": null,
      "outputs": []
    },
    {
      "cell_type": "code",
      "source": [
        "# Solicitar datos al usuario\n",
        "capital = float(input(\"Ingresa el capital inicial: $\"))\n",
        "tasa_anual_str = input(\"Ingresa la tasa de interés anual (en %): \")\n",
        "tiempo = float(input(\"Ingresa el número de años de la inversión: \"))\n",
        "n = int(input(\"Ingresa la cantidad de veces que se capitaliza el interés por año: \"))\n",
        "\n",
        "# Remove the '%' sign if present and convert to float\n",
        "tasa_anual = float(tasa_anual_str.replace('%', ''))\n",
        "\n",
        "# Convert tasa anual porcentual a decimal\n",
        "tasa = tasa_anual / 100\n",
        "\n",
        "# Calcular el monto final con interés compuesto\n",
        "monto_final = capital * (1 + tasa / n) ** (n * tiempo)\n",
        "\n",
        "# Mostrar el resultado\n",
        "print(f\"\\nEl monto final después de {tiempo} años es: ${monto_final:.2f}\")"
      ],
      "metadata": {
        "colab": {
          "base_uri": "https://localhost:8080/"
        },
        "id": "9bDiROskeLnp",
        "outputId": "8c0a4689-2b73-4cde-9f60-c320f26ad7c7"
      },
      "execution_count": 3,
      "outputs": [
        {
          "output_type": "stream",
          "name": "stdout",
          "text": [
            "Ingresa el capital inicial: $100\n",
            "Ingresa la tasa de interés anual (en %): 100\n",
            "Ingresa el número de años de la inversión: 12\n",
            "Ingresa la cantidad de veces que se capitaliza el interés por año: 10\n",
            "\n",
            "El monto final después de 12.0 años es: $9270906.88\n"
          ]
        }
      ]
    }
  ]
}